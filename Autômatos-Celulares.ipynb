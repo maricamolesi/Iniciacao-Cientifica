{
  "nbformat": 4,
  "nbformat_minor": 0,
  "metadata": {
    "colab": {
      "name": "Corrosao-imagens.ipynb",
      "provenance": [],
      "mount_file_id": "1HyIgYoczGaXhf_BbjewyH5cBRbFMwIIc",
      "authorship_tag": "ABX9TyMzX/toTlImO4QIj/J3tnKu",
      "include_colab_link": true
    },
    "kernelspec": {
      "name": "python3",
      "display_name": "Python 3"
    }
  },
  "cells": [
    {
      "cell_type": "markdown",
      "metadata": {
        "id": "view-in-github",
        "colab_type": "text"
      },
      "source": [
        "<a href=\"https://colab.research.google.com/github/maricamolesi/Iniciacao-Cientifica/blob/master/Aut%C3%B4matos-Celulares.ipynb\" target=\"_parent\"><img src=\"https://colab.research.google.com/assets/colab-badge.svg\" alt=\"Open In Colab\"/></a>"
      ]
    },
    {
      "cell_type": "code",
      "metadata": {
        "id": "3ciRIiOY3RAc",
        "colab_type": "code",
        "colab": {}
      },
      "source": [
        "\"\"\"\n",
        "Created on Thu Nov 21 16:47:32 2019\n",
        "\n",
        "@author: Mariana\n",
        "\n",
        "\"\"\"\n",
        "\n",
        "from os import listdir\n",
        "from os.path import isfile, join\n",
        "from PIL import Image\n",
        "import numpy as np\n",
        "import os\n",
        "from matplotlib import pyplot as plt\n"
      ],
      "execution_count": 13,
      "outputs": []
    },
    {
      "cell_type": "markdown",
      "metadata": {
        "id": "VYnfwlxr3Wm3",
        "colab_type": "text"
      },
      "source": [
        "**CARREGAMENTO DO BANCO DE IMAGENS**"
      ]
    },
    {
      "cell_type": "code",
      "metadata": {
        "id": "YE1C6APq3Q8x",
        "colab_type": "code",
        "colab": {}
      },
      "source": [
        "MYPATH = '/content/drive/My Drive/ProjetoIC/Brodatz/Brodatz_128x128'\n",
        "NEWPATH = '(CAMINHO DA PASTA A ESCOLHER)'\n",
        "ONLYFILES = [f for f in listdir(MYPATH) if isfile(join(MYPATH, f))]"
      ],
      "execution_count": 17,
      "outputs": []
    },
    {
      "cell_type": "markdown",
      "metadata": {
        "id": "uXvafOj33wMK",
        "colab_type": "text"
      },
      "source": [
        "**ENTRADA DOS PARÂMETROS**"
      ]
    },
    {
      "cell_type": "code",
      "metadata": {
        "id": "zOhT_QARkc3W",
        "colab_type": "code",
        "colab": {
          "base_uri": "https://localhost:8080/",
          "height": 72
        },
        "outputId": "eab6f67d-1493-4a11-eb7f-b555e16e00c2"
      },
      "source": [
        "#Entrada dos parâmetros\n",
        "V = int(input('Surface roughness v: '))\n",
        "GAMMA = float(input('Pitting power γ: '))\n",
        "INT = int(input('Number of iterations: '))"
      ],
      "execution_count": 15,
          "name": "stdout"
        }
      ]
    },
    {
      "cell_type": "markdown",
      "metadata": {
        "id": "gTu_ewM-36Sz",
        "colab_type": "text"
      },
      "source": [
        "**CORROSÃO E CÁLCULO DA MATRIZ DE VETORES CARACTERÍSTICOS**\n",
        "\n"
      ]
    },
    {
      "cell_type": "code",
      "metadata": {
        "id": "jXbTJGr635UU",
        "colab_type": "code",
        "colab": {
          "base_uri": "https://localhost:8080/",
          "height": 246
        },
        "outputId": "d325e6ee-cb86-4a77-d380-b3390240acad"
      },
      "source": [
        "#Matriz dos vetores característicos\n",
        "FEATURE_MATRIX = np.zeros((len(ONLYFILES), (INT)))\n",
        "\n",
        "#Acesso a cada imagem da pasta\n",
        "for n in range(len(ONLYFILES)):\n",
        "\n",
        "    imagem = Image.open(join(MYPATH, ONLYFILES[n]))\n",
        "\n",
        "    #Add linhas e colunas imaginarias\n",
        "    left = np.insert(imagem, 0, values=0, axis=1)\n",
        "    right = np.insert(left, left.shape[1], values=0, axis=1)\n",
        "    top = np.insert(right, 0, values=0, axis=0)\n",
        "    imagem = np.insert(top, top.shape[0], values=0, axis=0)\n",
        "\n",
        "    row, col = imagem.shape\n",
        "\n",
        "    s = np.zeros((row, col, INT+1))   #Matriz dos estados das células\n",
        "    d = 0                             #Diferença do estado e o menor valor da vizinhança\n",
        "    Q = 0                             #Corrosão\n",
        "    Q_total = 0\n",
        "\n",
        "    #Associação da imagem original aos estados no t=0\n",
        "    for i in range(row):\n",
        "        for j in range(col):\n",
        "            s[i, j, 0] = imagem[i, j]\n",
        "\n",
        "    for t in range(INT):\n",
        "\n",
        "        #Condição de contorno\n",
        "        for i in range(col):\n",
        "            s[0, i, t] = s[1, i, t]\n",
        "            s[row-1, i, t] = s[row-2, i, t]\n",
        "        for i in range(row):\n",
        "            s[i, 0, t] = s[i, 1, t]\n",
        "            s[i, col-1, t] = s[i, col-2, t]\n",
        "\n",
        "        #Corrosao da imagem\n",
        "        for i in range(1, row-1):\n",
        "            for j in range(1, col-1):\n",
        "                smin = s[i-1, j-1, t]\n",
        "                for k in range(i-1, i+2):\n",
        "                    for m in range(j-1, j+2):\n",
        "                        if (s[k, m, t] <= smin):\n",
        "                            smin = s[k, m, t]\n",
        "                d = s[i, j, t] - smin\n",
        "\n",
        "                if (d < V or d > 255):\n",
        "                    s[i, j, t+1] = s[i, j, t]\n",
        "                else:\n",
        "                    Q = int((255 - d) * GAMMA)\n",
        "                    s[i, j, t+1] = s[i, j, t] + Q\n",
        "                    Q_total += Q\n",
        "\n",
        "        FEATURE_MATRIX[n, t] = Q_total/(row*col)\n",
        "\n",
        "    #Normalizar e salvar imagens corroídas em nova pasta\n",
        "    imagem_corroida = s[:, :, t]*255/np.amax(s[:, :, t])\n",
        "    imagem_corroida = Image.fromarray((imagem_corroida).astype(np.uint8))\n",
        "    file_path = os.path.join(NEWPATH, ONLYFILES[n])\n",
        "    imagem_corroida.save(file_path)\n",
        "    "
      ],
      "execution_count": 18,
        }
      ]
    }
  ]
}
