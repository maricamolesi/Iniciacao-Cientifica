{
  "nbformat": 4,
  "nbformat_minor": 0,
  "metadata": {
    "colab": {
      "name": "Classificadores.ipynb",
      "provenance": [],
      "mount_file_id": "1ygRH3Pjcqp9gFW2Ul-2f39MUDfkjsbuF",
      "authorship_tag": "ABX9TyMdJkGNMIdKRVJe58cupNlU",
      "include_colab_link": true
    },
    "kernelspec": {
      "name": "python3",
      "display_name": "Python 3"
    }
  },
  "cells": [
    {
      "cell_type": "markdown",
      "metadata": {
        "id": "view-in-github",
        "colab_type": "text"
      },
      "source": [
        "<a href=\"https://colab.research.google.com/github/maricamolesi/Iniciacao-Cientifica/blob/master/Classificadores.ipynb\" target=\"_parent\"><img src=\"https://colab.research.google.com/assets/colab-badge.svg\" alt=\"Open In Colab\"/></a>"
      ]
    },
    {
      "cell_type": "code",
      "metadata": {
        "id": "_NEtEehopiOJ",
        "colab_type": "code",
        "colab": {}
      },
      "source": [
        "\"\"\"\n",
        "Created on Thu Nov 21 16:47:32 2019\n",
        "\n",
        "@author: Mariana\n",
        "\"\"\"\n",
        "\n",
        "from sklearn.discriminant_analysis import LinearDiscriminantAnalysis as LDA\n",
        "from sklearn.model_selection import StratifiedKFold, KFold\n",
        "from sklearn.model_selection import RepeatedKFold, ShuffleSplit\n",
        "from sklearn.tree import DecisionTreeClassifier\n",
        "from sklearn.ensemble import RandomForestClassifier\n",
        "from sklearn.neighbors import KNeighborsClassifier\n",
        "from sklearn.discriminant_analysis import LinearDiscriminantAnalysis\n",
        "from sklearn.naive_bayes import GaussianNB\n",
        "from sklearn.linear_model import LogisticRegression\n",
        "from sklearn.svm import SVC\n",
        "from sklearn.model_selection import cross_val_score\n",
        "from sklearn.model_selection import StratifiedShuffleSplit\n",
        "from sklearn.model_selection import train_test_split\n",
        "import numpy as np\n",
        "from matplotlib import pyplot"
      ],
      "execution_count": 61,
      "outputs": []
    },
    {
      "cell_type": "code",
      "metadata": {
        "id": "JRBD-Q378QC7",
        "colab_type": "code",
        "colab": {}
      },
      "source": [
        "classifiers = []\n",
        "classifiers.append(('LDA', LinearDiscriminantAnalysis()))\n",
        "classifiers.append(('KNN', KNeighborsClassifier()))\n",
        "classifiers.append(('CART', DecisionTreeClassifier()))\n",
        "classifiers.append(('RF', RandomForestClassifier()))\n",
        "classifiers.append(('NB', GaussianNB()))\n",
        "classifiers.append(('SVM', SVC()))"
      ],
      "execution_count": 55,
      "outputs": []
    },
    {
      "cell_type": "code",
      "metadata": {
        "id": "ezCkqSQcL8j_",
        "colab_type": "code",
        "colab": {}
      },
      "source": [
        "#Vetor das classes\n",
        "LABELS = np.loadtxt('/content/drive/My Drive/ProjetoIC/CITA/LABELS.txt')"
      ],
      "execution_count": 50,
      "outputs": []
    },
    {
      "cell_type": "markdown",
      "metadata": {
        "id": "leCf5A6oM8G9",
        "colab_type": "text"
      },
      "source": [
        "**CLASSIFICAÇÃO DAS IMAGENS POUCO CORROÍDAS**"
      ]
    },
    {
      "cell_type": "code",
      "metadata": {
        "id": "vN1b3ivCM08v",
        "colab_type": "code",
        "colab": {}
      },
      "source": [
        "#Matriz de descritores extraídos pela rede neural\n",
        "MATRIX_NEURALNETWORK = np.load('/content/drive/My Drive/ProjetoIC/CITA/FEATURES_POUCOCORROIDO.npy')\n",
        "\n",
        "#Matriz de descritores extraídos pelo modelo de automâtos celulares\n",
        "MATRIX_CITA = np.load('/content/drive/My Drive/ProjetoIC/CITA/CITA-POUCOCORROIDO.npy')\n"
      ],
      "execution_count": 51,
      "outputs": []
    },
    {
      "cell_type": "code",
      "metadata": {
        "id": "Tz5XC40s8yV8",
        "colab_type": "code",
        "colab": {
          "base_uri": "https://localhost:8080/",
          "height": 423
        },
        "outputId": "2d53c9ed-85a6-4989-f2b5-dd2fe1590dd9"
      },
      "source": [
        "resultados = []\n",
        "classificadores = []\n",
        "\n",
        "print(\"RESULTADOS DOS DESCRITORES CITA\")\n",
        "\n",
        "for name, model in classifiers:\n",
        "    kfold = StratifiedKFold(n_splits=10, shuffle=True, random_state=0)\n",
        "    cv_results = cross_val_score(model, MATRIX_CITA, LABELS, cv=kfold, scoring=\"accuracy\")\n",
        "    resultados.append(cv_results)\n",
        "    classificadores.append(name)\n",
        "    msg = \"%s: %f (%f)\" % (name, cv_results.mean(), cv_results.std())\n",
        "    print(msg)\n",
        "\n",
        "#Boxplot para comparar os resultados\n",
        "fig = pyplot.figure()\n",
        "fig.suptitle('Resultados dos descritores CITA')\n",
        "ax = fig.add_subplot(111)\n",
        "pyplot.boxplot(resultados)\n",
        "ax.set_xticklabels(classificadores)\n",
        "pyplot.show()"
      ],
      "execution_count": 70,
      "outputs": [
        {
          "output_type": "stream",
          "text": [
            "RESULTADOS DOS DESCRITORES CITA\n",
            "LDA: 0.683575 (0.016152)\n",
            "KNN: 0.295553 (0.027262)\n",
            "CART: 0.290513 (0.031259)\n",
            "RF: 0.347362 (0.037096)\n",
            "NB: 0.210554 (0.032487)\n",
            "SVM: 0.086165 (0.011945)\n"
          ],
          "name": "stdout"
        },
        {
          "output_type": "display_data",
          "data": {
            "image/png": "[encoded data removed]",
            "text/plain": [
              "<Figure size 432x288 with 1 Axes>"
            ]
          },
          "metadata": {
            "tags": [],
            "needs_background": "light"
          }
        }
      ]
    },
    {
      "cell_type": "code",
      "metadata": {
        "id": "pu3h3IfQT1HE",
        "colab_type": "code",
        "colab": {
          "base_uri": "https://localhost:8080/",
          "height": 423
        },
        "outputId": "9fed717f-fe5f-424a-c0bb-32a405f73329"
      },
      "source": [
        "resultados = []\n",
        "classificadores = []\n",
        "\n",
        "print(\"RESULTADO DOS DESCRITORES EXTRAÍDOS PELA REDE NEURAL\")\n",
        "\n",
        "for name, model in classifiers:\n",
        "    kfold = StratifiedKFold(n_splits=10, shuffle=True, random_state=0)\n",
        "    cv_results = cross_val_score(model, MATRIX_NEURALNETWORK, LABELS, cv=kfold, scoring=\"accuracy\")\n",
        "    resultados.append(cv_results)\n",
        "    classificadores.append(name)\n",
        "    msg = \"%s: %f (%f)\" % (name, cv_results.mean(), cv_results.std())\n",
        "    print(msg)\n",
        "\n",
        "#Boxplot para comparar os resultados\n",
        "fig = pyplot.figure()\n",
        "fig.suptitle('Resultado dos descritores da rede neural')\n",
        "ax = fig.add_subplot(111)\n",
        "pyplot.boxplot(resultados)\n",
        "ax.set_xticklabels(classificadores)\n",
        "pyplot.show()"
      ],
      "execution_count": 71,
      "outputs": [
        {
          "output_type": "stream",
          "text": [
            "RESULTADO DOS DESCRITORES EXTRAÍDOS PELA REDE NEURAL\n",
            "LDA: 0.988167 (0.006899)\n",
            "KNN: 0.979147 (0.011033)\n",
            "CART: 0.795594 (0.019017)\n",
            "RF: 0.981410 (0.010733)\n",
            "NB: 0.821485 (0.031872)\n",
            "SVM: 0.985917 (0.007683)\n"
          ],
          "name": "stdout"
        },
        {
          "output_type": "display_data",
          "data": {
            "image/png": "[encoded data removed]",
            "text/plain": [
              "<Figure size 432x288 with 1 Axes>"
            ]
          },
          "metadata": {
            "tags": [],
            "needs_background": "light"
          }
        }
      ]
    },
    {
      "cell_type": "markdown",
      "metadata": {
        "id": "1WFs5eJ9MJNH",
        "colab_type": "text"
      },
      "source": [
        "**CLASSIFICAÇÃO DAS IMAGENS CORROÍDAS**"
      ]
    },
    {
      "cell_type": "code",
      "metadata": {
        "id": "YSKRLrBTLrUN",
        "colab_type": "code",
        "colab": {}
      },
      "source": [
        "#Matriz de descritores extraídos pela rede neural\n",
        "MATRIX_NEURALNETWORK = np.load('/content/drive/My Drive/ProjetoIC/CITA/FEATURES_CORROIDO.npy')\n",
        "\n",
        "#Matriz de descritores extraídos pelo modelo de automâtos celulares\n",
        "MATRIX_CITA = np.load('/content/drive/My Drive/ProjetoIC/CITA/CITA-CORROIDO.npy')"
      ],
      "execution_count": 75,
      "outputs": []
    },
    {
      "cell_type": "code",
      "metadata": {
        "colab_type": "code",
        "id": "sKdQawvyLuHZ",
        "colab": {
          "base_uri": "https://localhost:8080/",
          "height": 423
        },
        "outputId": "ac3dd3b5-53fa-4f32-e039-089ab1d6c166"
      },
      "source": [
        "resultados = []\n",
        "classificadores = []\n",
        "\n",
        "print(\"RESULTADO DOS DESCRITORES CITA\")\n",
        "\n",
        "for name, model in classifiers:\n",
        "    kfold = StratifiedKFold(n_splits=10, shuffle=True, random_state=0)\n",
        "    cv_results = cross_val_score(model, MATRIX_CITA, LABELS, cv=kfold, scoring=\"accuracy\")\n",
        "    resultados.append(cv_results)\n",
        "    classificadores.append(name)\n",
        "    msg = \"%s: %f (%f)\" % (name, cv_results.mean(), cv_results.std())\n",
        "    print(msg)\n",
        "\n",
        "#Boxplot para comparar os resultados\n",
        "fig = pyplot.figure()\n",
        "fig.suptitle('Resultados dos descritores CITA')\n",
        "ax = fig.add_subplot(111)\n",
        "pyplot.boxplot(resultados)\n",
        "ax.set_xticklabels(classificadores)\n",
        "pyplot.show()"
      ],
      "execution_count": 76,
      "outputs": [
        {
          "output_type": "stream",
          "text": [
            "RESULTADO DOS DESCRITORES CITA\n",
            "LDA: 0.911604 (0.023382)\n",
            "KNN: 0.281508 (0.015077)\n",
            "CART: 0.313029 (0.032095)\n",
            "RF: 0.369352 (0.016909)\n",
            "NB: 0.264051 (0.022802)\n",
            "SVM: 0.078833 (0.011548)\n"
          ],
          "name": "stdout"
        },
        {
          "output_type": "display_data",
          "data": {
            "image/png": "[encoded data removed]",
            "text/plain": [
              "<Figure size 432x288 with 1 Axes>"
            ]
          },
          "metadata": {
            "tags": [],
            "needs_background": "light"
          }
        }
      ]
    },
    {
      "cell_type": "code",
      "metadata": {
        "colab_type": "code",
        "id": "4_Yhs8MCLxVr",
        "colab": {
          "base_uri": "https://localhost:8080/",
          "height": 423
        },
        "outputId": "8076d6ec-c0ad-44c6-9d44-f164fdb48655"
      },
      "source": [
        "resultados = []\n",
        "classificadores = []\n",
        "\n",
        "print(\"RESULTADO DOS DESCRITORES EXTRAÍDOS PELA REDE NEURAL\")\n",
        "\n",
        "for name, model in classifiers:\n",
        "    kfold = StratifiedKFold(n_splits=10, shuffle=True, random_state=0)\n",
        "    cv_results = cross_val_score(model, MATRIX_NEURALNETWORK, LABELS, cv=kfold, scoring=\"accuracy\")\n",
        "    resultados.append(cv_results)\n",
        "    classificadores.append(name)\n",
        "    msg = \"%s: %f (%f)\" % (name, cv_results.mean(), cv_results.std())\n",
        "    print(msg)\n",
        "\n",
        "#Boxplot para comparar os resultados\n",
        "fig = pyplot.figure()\n",
        "fig.suptitle('Resultado dos descritores da rede neural')\n",
        "ax = fig.add_subplot(111)\n",
        "pyplot.boxplot(resultados)\n",
        "ax.set_xticklabels(classificadores)\n",
        "pyplot.show()"
      ],
      "execution_count": 77,
      "outputs": [
        {
          "output_type": "stream",
          "text": [
            "RESULTADO DOS DESCRITORES EXTRAÍDOS PELA REDE NEURAL\n",
            "LDA: 0.972402 (0.008162)\n",
            "KNN: 0.952142 (0.012377)\n",
            "CART: 0.726335 (0.027722)\n",
            "RF: 0.962280 (0.009060)\n",
            "NB: 0.787701 (0.030957)\n",
            "SVM: 0.965086 (0.007050)\n"
          ],
          "name": "stdout"
        },
        {
          "output_type": "display_data",
          "data": {
            "image/png": "[encoded data removed]",
            "text/plain": [
              "<Figure size 432x288 with 1 Axes>"
            ]
          },
          "metadata": {
            "tags": [],
            "needs_background": "light"
          }
        }
      ]
    },
    {
      "cell_type": "markdown",
      "metadata": {
        "id": "A4iXALE4MPOU",
        "colab_type": "text"
      },
      "source": [
        "**CLASSIFICAÇÃO DAS IMAGENS MUITO CORROÍDAS**"
      ]
    },
    {
      "cell_type": "code",
      "metadata": {
        "colab_type": "code",
        "id": "JV1ZUWmgMSlL",
        "colab": {}
      },
      "source": [
        "#Matriz de descritores extraídos pela rede neural\n",
        "MATRIX_NEURALNETWORK = np.load('/content/drive/My Drive/ProjetoIC/CITA/FEATURES_MUITOCORROIDO.npy')\n",
        "\n",
        "#Matriz de descritores extraídos pelo modelo de automâtos celulares\n",
        "MATRIX_CITA = np.load('/content/drive/My Drive/ProjetoIC/CITA/CITA-MUITOCORROIDO.npy')"
      ],
      "execution_count": 78,
      "outputs": []
    },
    {
      "cell_type": "code",
      "metadata": {
        "colab_type": "code",
        "id": "29sqn1ywLuY6",
        "colab": {
          "base_uri": "https://localhost:8080/",
          "height": 423
        },
        "outputId": "1c1f66f2-9744-47f1-c22e-2e78d76dc187"
      },
      "source": [
        "resultados = []\n",
        "classificadores = []\n",
        "\n",
        "print(\"RESULTADO DOS DESCRITORES CITA\")\n",
        "\n",
        "for name, model in classifiers:\n",
        "    kfold = StratifiedKFold(n_splits=10, shuffle=True, random_state=0)\n",
        "    cv_results = cross_val_score(model, MATRIX_CITA, LABELS, cv=kfold, scoring=\"accuracy\")\n",
        "    resultados.append(cv_results)\n",
        "    classificadores.append(name)\n",
        "    msg = \"%s: %f (%f)\" % (name, cv_results.mean(), cv_results.std())\n",
        "    print(msg)\n",
        "\n",
        "#Boxplot para comparar os resultados\n",
        "fig = pyplot.figure()\n",
        "fig.suptitle('Resultados dos descritores CITA')\n",
        "ax = fig.add_subplot(111)\n",
        "pyplot.boxplot(resultados)\n",
        "ax.set_xticklabels(classificadores)\n",
        "pyplot.show()"
      ],
      "execution_count": 79,
      "outputs": [
        {
          "output_type": "stream",
          "text": [
            "RESULTADO DOS DESCRITORES CITA\n",
            "LDA: 0.923434 (0.015518)\n",
            "KNN: 0.249445 (0.030222)\n",
            "CART: 0.365419 (0.040725)\n",
            "RF: 0.408798 (0.024909)\n",
            "NB: 0.275319 (0.020707)\n",
            "SVM: 0.074332 (0.013783)\n"
          ],
          "name": "stdout"
        },
        {
          "output_type": "display_data",
          "data": {
            "image/png": "[encoded data removed]",
            "text/plain": [
              "<Figure size 432x288 with 1 Axes>"
            ]
          },
          "metadata": {
            "tags": [],
            "needs_background": "light"
          }
        }
      ]
    },
    {
      "cell_type": "code",
      "metadata": {
        "colab_type": "code",
        "id": "-WgYTK8_LxbG",
        "colab": {
          "base_uri": "https://localhost:8080/",
          "height": 423
        },
        "outputId": "58ab749b-fa17-4550-994c-ba8cbffa9a71"
      },
      "source": [
        "resultados = []\n",
        "classificadores = []\n",
        "\n",
        "print(\"RESULTADO DOS DESCRITORES EXTRAÍDOS PELA REDE NEURAL\")\n",
        "\n",
        "for name, model in classifiers:\n",
        "    kfold = StratifiedKFold(n_splits=10, shuffle=True, random_state=0)\n",
        "    cv_results = cross_val_score(model, MATRIX_NEURALNETWORK, LABELS, cv=kfold, scoring=\"accuracy\")\n",
        "    resultados.append(cv_results)\n",
        "    classificadores.append(name)\n",
        "    msg = \"%s: %f (%f)\" % (name, cv_results.mean(), cv_results.std())\n",
        "    print(msg)\n",
        "\n",
        "#Boxplot para comparar os resultados\n",
        "fig = pyplot.figure()\n",
        "fig.suptitle('Resultado dos descritores da rede neural')\n",
        "ax = fig.add_subplot(111)\n",
        "pyplot.boxplot(resultados)\n",
        "ax.set_xticklabels(classificadores)\n",
        "pyplot.show()"
      ],
      "execution_count": 80,
      "outputs": [
        {
          "output_type": "stream",
          "text": [
            "RESULTADO DOS DESCRITORES EXTRAÍDOS PELA REDE NEURAL\n",
            "LDA: 0.969031 (0.010134)\n",
            "KNN: 0.938078 (0.012260)\n",
            "CART: 0.739326 (0.028091)\n",
            "RF: 0.953834 (0.012256)\n",
            "NB: 0.697645 (0.027105)\n",
            "SVM: 0.960023 (0.016005)\n"
          ],
          "name": "stdout"
        },
        {
          "output_type": "display_data",
          "data": {
            "image/png": "[encoded data removed]",
            "text/plain": [
              "<Figure size 432x288 with 1 Axes>"
            ]
          },
          "metadata": {
            "tags": [],
            "needs_background": "light"
          }
        }
      ]
    }
  ]
}