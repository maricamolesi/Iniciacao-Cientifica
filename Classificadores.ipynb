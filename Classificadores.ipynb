{
  "nbformat": 4,
  "nbformat_minor": 0,
  "metadata": {
    "colab": {
      "name": "Classificadores.ipynb",
      "provenance": [],
      "mount_file_id": "1ygRH3Pjcqp9gFW2Ul-2f39MUDfkjsbuF",
      "authorship_tag": "ABX9TyMzMggAA5Tzga5ek15pQLBd",
      "include_colab_link": true
    },
    "kernelspec": {
      "name": "python3",
      "display_name": "Python 3"
    }
  },
  "cells": [
    {
      "cell_type": "markdown",
      "metadata": {
        "id": "view-in-github",
        "colab_type": "text"
      },
      "source": [
        "<a href=\"https://colab.research.google.com/github/maricamolesi/Iniciacao-Cientifica/blob/master/Classificadores.ipynb\" target=\"_parent\"><img src=\"https://colab.research.google.com/assets/colab-badge.svg\" alt=\"Open In Colab\"/></a>"
      ]
    },
    {
      "cell_type": "code",
      "metadata": {
        "id": "_NEtEehopiOJ",
        "colab_type": "code",
        "colab": {}
      },
      "source": [
        "\"\"\"\n",
        "Created on Thu Nov 21 16:47:32 2019\n",
        "\n",
        "@author: Mariana\n",
        "\"\"\"\n",
        "\n",
        "from sklearn.discriminant_analysis import LinearDiscriminantAnalysis as LDA\n",
        "from sklearn.model_selection import StratifiedKFold\n",
        "from sklearn.model_selection import KFold, StratifiedKFold\n",
        "from sklearn.tree import DecisionTreeClassifier\n",
        "from sklearn.ensemble import RandomForestClassifier\n",
        "from sklearn.neighbors import KNeighborsClassifier\n",
        "from sklearn.discriminant_analysis import LinearDiscriminantAnalysis\n",
        "from sklearn.naive_bayes import GaussianNB\n",
        "from sklearn.svm import SVC\n",
        "from sklearn.model_selection import cross_val_score\n",
        "from sklearn.model_selection import StratifiedShuffleSplit\n",
        "import numpy as np\n",
        "from matplotlib import pyplot"
      ],
      "execution_count": 8,
      "outputs": []
    },
    {
      "cell_type": "markdown",
      "metadata": {
        "id": "leCf5A6oM8G9",
        "colab_type": "text"
      },
      "source": [
        "**CARREGAMENTO DA MATRIZ DE VETORES CARACTERÍSTICOS E VETOR DAS CLASSES**"
      ]
    },
    {
      "cell_type": "code",
      "metadata": {
        "id": "vN1b3ivCM08v",
        "colab_type": "code",
        "colab": {}
      },
      "source": [
        "#Matriz de descritores extraídos pela rede neural\n",
        "MATRIX_NEURALNETWORK = np.load('/content/drive/My Drive/ProjetoIC/CITA/FEATURES_CORROIDO.npy')\n",
        "\n",
        "#Matriz de descritores extraídos pelo modelo de automâtos celulares\n",
        "MATRIX_CITA = np.load('/content/drive/My Drive/ProjetoIC/CITA/CITA-CORROIDO.npy')\n",
        "\n",
        "#Vetor das classes\n",
        "LABELS = np.loadtxt('/content/drive/My Drive/ProjetoIC/CITA/LABELS.txt')"
      ],
      "execution_count": null,
      "outputs": []
    },
    {
      "cell_type": "markdown",
      "metadata": {
        "id": "uXd0M3Pc-Fuj",
        "colab_type": "text"
      },
      "source": [
        "**ALGUNS CLASSIFICADORES E SEUS RESULTADOS**"
      ]
    },
    {
      "cell_type": "code",
      "metadata": {
        "id": "JRBD-Q378QC7",
        "colab_type": "code",
        "colab": {}
      },
      "source": [
        "models = []\n",
        "models.append(('LDA', LinearDiscriminantAnalysis()))\n",
        "models.append(('KNN', KNeighborsClassifier()))\n",
        "models.append(('CART', DecisionTreeClassifier()))\n",
        "models.append(('RF', RandomForestClassifier()))\n",
        "models.append(('NB', GaussianNB()))\n",
        "models.append(('SVM', SVC()))"
      ],
      "execution_count": 10,
      "outputs": []
    },
    {
      "cell_type": "code",
      "metadata": {
        "id": "Tz5XC40s8yV8",
        "colab_type": "code",
        "colab": {
          "base_uri": "https://localhost:8080/",
          "height": 423
        },
        "outputId": "06913f41-f25b-4898-bf84-4ec1ef9a2478"
      },
      "source": [
        "results = []\n",
        "names = []\n",
        "\n",
        "print(\"RESULTADOS DOS VETORES CARACTERÍSTICOS - CITA\")\n",
        "\n",
        "for name, model in models:\n",
        "    kfold = StratifiedShuffleSplit(n_splits=10, test_size=0.5, random_state=0)\n",
        "    cv_results = cross_val_score(model, MATRIX_CITA, LABELS, cv=kfold, scoring=\"accuracy\")\n",
        "    results.append(cv_results)\n",
        "    names.append(name)\n",
        "    msg = \"%s: %f (%f)\" % (name, cv_results.mean(), cv_results.std())\n",
        "    print(msg)\n",
        "\n",
        "#Boxplot para comparar os resultados\n",
        "fig = pyplot.figure()\n",
        "fig.suptitle('Resultados dos descritores CITA')\n",
        "ax = fig.add_subplot(111)\n",
        "pyplot.boxplot(results)\n",
        "ax.set_xticklabels(names)\n",
        "pyplot.show()"
      ],
      "execution_count": 11,
      "outputs": [
        {
          "output_type": "stream",
          "text": [
            "RESULTADOS DOS VETORES CARACTERÍSTICOS - CITA\n",
            "LDA: 0.895946 (0.006213)\n",
            "KNN: 0.229505 (0.010269)\n",
            "CART: 0.282207 (0.015975)\n",
            "RF: 0.323311 (0.010040)\n",
            "NB: 0.266667 (0.009379)\n",
            "SVM: 0.174662 (0.009441)\n"
          ],
          "name": "stdout"
        },
        {
          "output_type": "display_data",
          "data": {
            "image/png": "[encoded data removed]",
            "text/plain": [
              "<Figure size 432x288 with 1 Axes>"
            ]
          },
          "metadata": {
            "tags": [],
            "needs_background": "light"
          }
        }
      ]
    },
    {
      "cell_type": "code",
      "metadata": {
        "id": "pu3h3IfQT1HE",
        "colab_type": "code",
        "colab": {
          "base_uri": "https://localhost:8080/",
          "height": 423
        },
        "outputId": "da24d1d5-c5c2-4edc-e47b-5f52edd7904e"
      },
      "source": [
        "results = []\n",
        "names = []\n",
        "\n",
        "print(\"RESULTADOS DOS VETORES CARACTERÍSTICOS - TREINAMENTO NA REDE\")\n",
        "\n",
        "for name, model in models:\n",
        "    kfold = StratifiedShuffleSplit(n_splits=10, test_size=0.5, random_state=0)\n",
        "    cv_results = cross_val_score(model, MATRIX_NEURALNETWORK, LABELS, cv=kfold, scoring=\"accuracy\")\n",
        "    results.append(cv_results)\n",
        "    names.append(name)\n",
        "    msg = \"%s: %f (%f)\" % (name, cv_results.mean(), cv_results.std())\n",
        "    print(msg)\n",
        "\n",
        "#Boxplot para comparar os resultados\n",
        "fig = pyplot.figure()\n",
        "fig.suptitle('Resultado dos descritores da rede neural')\n",
        "ax = fig.add_subplot(111)\n",
        "pyplot.boxplot(results)\n",
        "ax.set_xticklabels(names)\n",
        "pyplot.show()"
      ],
      "execution_count": 12,
      "outputs": [
        {
          "output_type": "stream",
          "text": [
            "RESULTADOS DOS VETORES CARACTERÍSTICOS - TREINAMENTO NA REDE\n",
            "LDA: 0.964077 (0.005840)\n",
            "KNN: 0.941779 (0.004779)\n",
            "CART: 0.669707 (0.011736)\n",
            "RF: 0.948086 (0.005618)\n",
            "NB: 0.553266 (0.028108)\n",
            "SVM: 0.959910 (0.006193)\n"
          ],
          "name": "stdout"
        },
        {
          "output_type": "display_data",
          "data": {
            "image/png": "[encoded data removed]",
            "text/plain": [
              "<Figure size 432x288 with 1 Axes>"
            ]
          },
          "metadata": {
            "tags": [],
            "needs_background": "light"
          }
        }
      ]
    }
  ]
}
