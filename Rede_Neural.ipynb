{
  "nbformat": 4,
  "nbformat_minor": 0,
  "metadata": {
    "colab": {
      "name": "treinamento_brodatz.ipynb",
      "provenance": [],
      "collapsed_sections": [],
      "mount_file_id": "1E9_82e8KIeC0L-vCHMDViWLEyNIqtdDh",
      "authorship_tag": "ABX9TyNDf3fTFU6HgcZ89UtBv8Jm",
      "include_colab_link": true
    },
    "kernelspec": {
      "name": "python3",
      "display_name": "Python 3"
    },
    "accelerator": "GPU"
  },
  "cells": [
    {
      "cell_type": "markdown",
      "metadata": {
        "id": "view-in-github",
        "colab_type": "text"
      },
      "source": [
        "<a href=\"https://colab.research.google.com/github/maricamolesi/Iniciacao-Cientifica/blob/master/Rede_Neural.ipynb\" target=\"_parent\"><img src=\"https://colab.research.google.com/assets/colab-badge.svg\" alt=\"Open In Colab\"/></a>"
      ]
    },
    {
      "cell_type": "code",
      "metadata": {
        "id": "WYJ3JSkFIRaZ",
        "colab_type": "code",
        "colab": {}
      },
      "source": [
        "# License: BSD\n",
        "# Author: Sasank Chilamkurthy\n",
        "# Modified: Mariana Camolesi\n",
        "\n",
        "from __future__ import print_function, division\n",
        "\n",
        "import torch\n",
        "import torch.nn as nn\n",
        "import torch.optim as optim\n",
        "from torch.optim import lr_scheduler\n",
        "import numpy as np\n",
        "import torchvision\n",
        "from torch.utils import data\n",
        "import random\n",
        "from torch.utils.data import Dataset, DataLoader\n",
        "from torchvision import transforms, utils\n",
        "from torchvision import datasets, models, transforms\n",
        "import matplotlib.pyplot as plt\n",
        "import time\n",
        "import os\n",
        "import copy\n",
        "\n",
        "# Ignore warnings\n",
        "import warnings\n",
        "warnings.filterwarnings(\"ignore\")\n",
        "\n",
        "plt.ion()   # interactive mode\n"
      ],
      "execution_count": 10,
      "outputs": []
    },
    {
      "cell_type": "markdown",
      "metadata": {
        "id": "8TtgIm1ybLTX",
        "colab_type": "text"
      },
      "source": [
        "**CARREGANDO A BASE DE DADOS**\n",
        "\n",
        "Neste notebook foi utilizado o banco de imagens Brodatz 128x128 contendo 1776 imagens de textura, com leve corrosão (pelo código dos Autômatos Celulares; parâmetros v = 10, gamma = 0.01 e 30 iterações). O conjunto foi dividido em treinamento e validação na proporção meio a meio, de forma aleatória.\n",
        "\n"
      ]
    },
    {
      "cell_type": "code",
      "metadata": {
        "id": "ENwc28IgB_k1",
        "colab_type": "code",
        "colab": {}
      },
      "source": [
        "# Data augmentation and normalization for training\n",
        "# Just normalization for validation\n",
        "data_transforms = {\n",
        "    'train': transforms.Compose([\n",
        "        transforms.RandomResizedCrop(224),\n",
        "        transforms.RandomHorizontalFlip(),\n",
        "        transforms.ToTensor(),\n",
        "        transforms.Normalize([0.485, 0.456, 0.406], [0.229, 0.224, 0.225])\n",
        "    ]),\n",
        "    'val': transforms.Compose([\n",
        "        transforms.Resize(256),\n",
        "        transforms.CenterCrop(224),\n",
        "        transforms.ToTensor(),\n",
        "        transforms.Normalize([0.485, 0.456, 0.406], [0.229, 0.224, 0.225])\n",
        "    ]),\n",
        "}\n",
        "\n",
        "data_dir = '/content/drive/My Drive/ProjetoIC/trainval_v10gamma001int20'\n",
        "\n",
        "image_datasets = {x: datasets.ImageFolder(os.path.join(data_dir, x),\n",
        "                                          data_transforms[x])\n",
        "                  for x in ['train', 'val']}\n",
        "dataloaders = {x: torch.utils.data.DataLoader(image_datasets[x], batch_size=12,\n",
        "                                             shuffle=True, num_workers=4)\n",
        "              for x in ['train', 'val']}\n",
        "dataset_sizes = {x: len(image_datasets[x]) for x in ['train', 'val']}\n",
        "class_names = image_datasets['train'].classes\n",
        "\n",
        "device = torch.device(\"cuda:0\" if torch.cuda.is_available() else \"cpu\")\n",
        "\n"
      ],
      "execution_count": 13,
      "outputs": []
    },
    {
      "cell_type": "markdown",
      "metadata": {
        "id": "mpe84GHOcoaI",
        "colab_type": "text"
      },
      "source": [
        "**VISUALIZAÇÃO DE ALGUMAS IMAGENS DO TREINAMENTO**"
      ]
    },
    {
      "cell_type": "code",
      "metadata": {
        "id": "bVp9N6K3cn1N",
        "colab_type": "code",
        "colab": {
          "base_uri": "https://localhost:8080/",
          "height": 148
        },
        "outputId": "47afcaf3-db50-45e0-bf3e-a8ba193c3801"
      },
      "source": [
        "def imshow(inp, title=None):\n",
        "    \"\"\"Imshow for Tensor.\"\"\"\n",
        "    inp = inp.numpy().transpose((1, 2, 0))\n",
        "    mean = np.array([0.485, 0.456, 0.406])\n",
        "    std = np.array([0.229, 0.224, 0.225])\n",
        "    inp = std * inp + mean\n",
        "    inp = np.clip(inp, 0, 1)\n",
        "    plt.imshow(inp)\n",
        "    if title is not None:\n",
        "        plt.title(title)\n",
        "    plt.pause(0.001)  # pause a bit so that plots are updated\n",
        "\n",
        "\n",
        "# Get a batch of training data\n",
        "inputs, classes = next(iter(dataloaders['train']))\n",
        "\n",
        "# Make a grid from batch\n",
        "out = torchvision.utils.make_grid(inputs)\n",
        "\n",
        "imshow(out, title=[class_names[x] for x in classes])"
      ],
      "execution_count": 12,
      "outputs": [
        {
          "output_type": "display_data",
          "data": {
            "image/png": "[encoded data removed]",
            "text/plain": [
              "<Figure size 432x288 with 1 Axes>"
            ]
          },
          "metadata": {
            "tags": [],
            "needs_background": "light"
          }
        }
      ]
    },
    {
      "cell_type": "markdown",
      "metadata": {
        "id": "10S_xjX5bUzU",
        "colab_type": "text"
      },
      "source": [
        "**TREINAMENTO DO MODELO**\n",
        "\n"
      ]
    },
    {
      "cell_type": "code",
      "metadata": {
        "id": "gODpiqpLjhxK",
        "colab_type": "code",
        "colab": {}
      },
      "source": [
        "def train_model(model, criterion, optimizer, scheduler, num_epochs=25):\n",
        "    since = time.time()\n",
        "\n",
        "    best_model_wts = copy.deepcopy(model.state_dict())\n",
        "    best_acc = 0.0\n",
        "\n",
        "    for epoch in range(num_epochs):\n",
        "        print('Epoch {}/{}'.format(epoch, num_epochs - 1))\n",
        "        print('-' * 10)\n",
        "\n",
        "        # Each epoch has a training and validation phase\n",
        "        for phase in ['train', 'val']:\n",
        "            if phase == 'train':\n",
        "                model.train()  # Set model to training mode\n",
        "            else:\n",
        "                model.eval()   # Set model to evaluate mode\n",
        "\n",
        "            running_loss = 0.0\n",
        "            running_corrects = 0\n",
        "\n",
        "            # Iterate over data.\n",
        "            for inputs, labels in dataloaders[phase]:\n",
        "                inputs = inputs.to(device)\n",
        "                labels = labels.to(device)\n",
        "\n",
        "                # zero the parameter gradients\n",
        "                optimizer.zero_grad()\n",
        "\n",
        "                # forward\n",
        "                # track history if only in train\n",
        "                with torch.set_grad_enabled(phase == 'train'):\n",
        "                    outputs = model(inputs)\n",
        "                    _, preds = torch.max(outputs, 1)\n",
        "                    loss = criterion(outputs, labels)\n",
        "\n",
        "                    # backward + optimize only if in training phase\n",
        "                    if phase == 'train':\n",
        "                        loss.backward()\n",
        "                        optimizer.step()\n",
        "\n",
        "                # statistics\n",
        "                running_loss += loss.item() * inputs.size(0)\n",
        "                running_corrects += torch.sum(preds == labels.data)\n",
        "                \n",
        "            if phase == 'train':\n",
        "                scheduler.step()\n",
        "\n",
        "            epoch_loss = running_loss / dataset_sizes[phase]\n",
        "            epoch_acc = running_corrects.double() / dataset_sizes[phase]\n",
        "\n",
        "            print('{} Loss: {:.4f} Acc: {:.4f}'.format(\n",
        "                phase, epoch_loss, epoch_acc))\n",
        "\n",
        "            # deep copy the model\n",
        "            if phase == 'val' and epoch_acc > best_acc:\n",
        "                best_acc = epoch_acc\n",
        "                best_model_wts = copy.deepcopy(model.state_dict())\n",
        "\n",
        "        print()\n",
        "\n",
        "    time_elapsed = time.time() - since\n",
        "    print('Training complete in {:.0f}m {:.0f}s'.format(\n",
        "        time_elapsed // 60, time_elapsed % 60))\n",
        "    print('Best val Acc: {:4f}'.format(best_acc))\n",
        "\n",
        "    # load best model weights\n",
        "    model.load_state_dict(best_model_wts)\n",
        "    return model"
      ],
      "execution_count": 17,
      "outputs": []
    },
    {
      "cell_type": "markdown",
      "metadata": {
        "id": "yr7F8K__dxAU",
        "colab_type": "text"
      },
      "source": [
        "**AJUSTE FINO DA REDE**\n",
        "\n",
        "Uso da rede neural ResNet50 pré treinada."
      ]
    },
    {
      "cell_type": "code",
      "metadata": {
        "id": "QM2N5GwLMAkP",
        "colab_type": "code",
        "colab": {}
      },
      "source": [
        "#Finetuning the convnett\n",
        "model_ft = models.resnet101(pretrained=True)\n",
        "num_ftrs = model_ft.fc.in_features\n",
        "\n",
        "# The size of each output sample is len(class_names)\n",
        "model_ft.fc = nn.Linear(num_ftrs, len(class_names))\n",
        "\n",
        "model_ft = model_ft.to(device)\n",
        "\n",
        "criterion = nn.CrossEntropyLoss()\n",
        "\n",
        "# Observe that all parameters are being optimized\n",
        "optimizer_ft = optim.SGD(model_ft.parameters(), lr=0.002, momentum=0.9)\n",
        "\n",
        "# Decay LR by a factor of 0.6 every 9 epochs\n",
        "exp_lr_scheduler = lr_scheduler.StepLR(optimizer_ft, step_size=9, gamma=0.5)\n",
        "\n"
      ],
      "execution_count": 26,
      "outputs": []
    },
    {
      "cell_type": "code",
      "metadata": {
        "id": "qHqEFKDTeRLG",
        "colab_type": "code",
        "colab": {
          "base_uri": "https://localhost:8080/",
          "height": 1000
        },
        "outputId": "6218462e-daf1-4080-ec88-ee11f7584f7f"
      },
      "source": [
        "model_ft = train_model(model_ft, criterion, optimizer_ft, exp_lr_scheduler,\n",
        "                       num_epochs=25)"
      ],
      "execution_count": 27,
      "outputs": [
        {
          "output_type": "stream",
          "text": [
            "Epoch 0/24\n",
            "----------\n",
            "train Loss: 4.1310 Acc: 0.1547\n",
            "val Loss: 2.1194 Acc: 0.6372\n",
            "\n",
            "Epoch 1/24\n",
            "----------\n",
            "train Loss: 1.9972 Acc: 0.5482\n",
            "val Loss: 0.7478 Acc: 0.8018\n",
            "\n",
            "Epoch 2/24\n",
            "----------\n",
            "train Loss: 1.1210 Acc: 0.7152\n",
            "val Loss: 0.4829 Acc: 0.8555\n",
            "\n",
            "Epoch 3/24\n",
            "----------\n",
            "train Loss: 0.8613 Acc: 0.7747\n",
            "val Loss: 0.3566 Acc: 0.8981\n",
            "\n",
            "Epoch 4/24\n",
            "----------\n",
            "train Loss: 0.6649 Acc: 0.8274\n",
            "val Loss: 0.3401 Acc: 0.8936\n",
            "\n",
            "Epoch 5/24\n",
            "----------\n",
            "train Loss: 0.6108 Acc: 0.8206\n",
            "val Loss: 0.2979 Acc: 0.9160\n",
            "\n",
            "Epoch 6/24\n",
            "----------\n",
            "train Loss: 0.5084 Acc: 0.8531\n",
            "val Loss: 0.2899 Acc: 0.9227\n",
            "\n",
            "Epoch 7/24\n",
            "----------\n",
            "train Loss: 0.4525 Acc: 0.8733\n",
            "val Loss: 0.2899 Acc: 0.9093\n",
            "\n",
            "Epoch 8/24\n",
            "----------\n",
            "train Loss: 0.3656 Acc: 0.9013\n",
            "val Loss: 0.1812 Acc: 0.9496\n",
            "\n",
            "Epoch 9/24\n",
            "----------\n",
            "train Loss: 0.2982 Acc: 0.9238\n",
            "val Loss: 0.1445 Acc: 0.9642\n",
            "\n",
            "Epoch 10/24\n",
            "----------\n",
            "train Loss: 0.2487 Acc: 0.9473\n",
            "val Loss: 0.1530 Acc: 0.9675\n",
            "\n",
            "Epoch 11/24\n",
            "----------\n",
            "train Loss: 0.2163 Acc: 0.9462\n",
            "val Loss: 0.1251 Acc: 0.9698\n",
            "\n",
            "Epoch 12/24\n",
            "----------\n",
            "train Loss: 0.1937 Acc: 0.9563\n",
            "val Loss: 0.1301 Acc: 0.9686\n",
            "\n",
            "Epoch 13/24\n",
            "----------\n",
            "train Loss: 0.2123 Acc: 0.9473\n",
            "val Loss: 0.1216 Acc: 0.9709\n",
            "\n",
            "Epoch 14/24\n",
            "----------\n",
            "train Loss: 0.1640 Acc: 0.9585\n",
            "val Loss: 0.1234 Acc: 0.9720\n",
            "\n",
            "Epoch 15/24\n",
            "----------\n",
            "train Loss: 0.1704 Acc: 0.9596\n",
            "val Loss: 0.1179 Acc: 0.9754\n",
            "\n",
            "Epoch 16/24\n",
            "----------\n",
            "train Loss: 0.1926 Acc: 0.9428\n",
            "val Loss: 0.1286 Acc: 0.9664\n",
            "\n",
            "Epoch 17/24\n",
            "----------\n",
            "train Loss: 0.1919 Acc: 0.9574\n",
            "val Loss: 0.1157 Acc: 0.9686\n",
            "\n",
            "Epoch 18/24\n",
            "----------\n",
            "train Loss: 0.1121 Acc: 0.9787\n",
            "val Loss: 0.1122 Acc: 0.9742\n",
            "\n",
            "Epoch 19/24\n",
            "----------\n",
            "train Loss: 0.1438 Acc: 0.9630\n",
            "val Loss: 0.1047 Acc: 0.9754\n",
            "\n",
            "Epoch 20/24\n",
            "----------\n",
            "train Loss: 0.1393 Acc: 0.9697\n",
            "val Loss: 0.1081 Acc: 0.9787\n",
            "\n",
            "Epoch 21/24\n",
            "----------\n",
            "train Loss: 0.1206 Acc: 0.9787\n",
            "val Loss: 0.1008 Acc: 0.9787\n",
            "\n",
            "Epoch 22/24\n",
            "----------\n",
            "train Loss: 0.1156 Acc: 0.9731\n",
            "val Loss: 0.1005 Acc: 0.9798\n",
            "\n",
            "Epoch 23/24\n",
            "----------\n",
            "train Loss: 0.1397 Acc: 0.9686\n",
            "val Loss: 0.0997 Acc: 0.9798\n",
            "\n",
            "Epoch 24/24\n",
            "----------\n",
            "train Loss: 0.1161 Acc: 0.9709\n",
            "val Loss: 0.0938 Acc: 0.9810\n",
            "\n",
            "Training complete in 9m 2s\n",
            "Best val Acc: 0.980963\n"
          ],
          "name": "stdout"
        }
      ]
    }
  ]
}
