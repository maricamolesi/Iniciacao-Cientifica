{
  "nbformat": 4,
  "nbformat_minor": 0,
  "metadata": {
    "colab": {
      "name": "Untitled0.ipynb",
      "provenance": [],
      "mount_file_id": "1ygRH3Pjcqp9gFW2Ul-2f39MUDfkjsbuF",
      "authorship_tag": "ABX9TyMyYF2SRgvdORRPkIjpnipz",
      "include_colab_link": true
    },
    "kernelspec": {
      "name": "python3",
      "display_name": "Python 3"
    }
  },
  "cells": [
    {
      "cell_type": "markdown",
      "metadata": {
        "id": "view-in-github",
        "colab_type": "text"
      },
      "source": [
        "<a href=\"https://colab.research.google.com/github/maricamolesi/Iniciacao-Cientifica/blob/master/ClassificadorLDA.ipynb\" target=\"_parent\"><img src=\"https://colab.research.google.com/assets/colab-badge.svg\" alt=\"Open In Colab\"/></a>"
      ]
    },
    {
      "cell_type": "code",
      "metadata": {
        "id": "_NEtEehopiOJ",
        "colab_type": "code",
        "colab": {}
      },
      "source": [
        "\"\"\"\n",
        "Created on Thu Nov 21 16:47:32 2019\n",
        "\n",
        "@author: Mariana\n",
        "\"\"\"\n",
        "\n",
        "from sklearn.discriminant_analysis import LinearDiscriminantAnalysis as LDA\n",
        "from sklearn.decomposition import PCA\n",
        "from sklearn.preprocessing import MinMaxScaler\n",
        "from sklearn.metrics import accuracy_score\n",
        "from sklearn.model_selection import train_test_split\n",
        "import numpy as np\n"
      ],
      "execution_count": null,
      "outputs": []
    },
    {
      "cell_type": "markdown",
      "metadata": {
        "id": "leCf5A6oM8G9",
        "colab_type": "text"
      },
      "source": [
        "*CARREGAMENTO DA MATRIZ DE VETORES CARACTERÍSTICOS E VETOR DAS CLASSES*"
      ]
    },
    {
      "cell_type": "code",
      "metadata": {
        "id": "vN1b3ivCM08v",
        "colab_type": "code",
        "colab": {}
      },
      "source": [
        "FEATURE_MATRIX = np.load('CAMINHO DO ARQUIVO')\n",
        "LABELS = np.loadtxt('CAMINHO DO ARQUIVO')\n",
        "ACCURACY = []"
      ],
      "execution_count": null,
      "outputs": []
    },
    {
      "cell_type": "markdown",
      "metadata": {
        "id": "TE3G_fTVNJVT",
        "colab_type": "text"
      },
      "source": [
        "*CLASSIFICANDO AS IMAGENS*\n",
        "\n",
        "Divide-se a matriz e o vetor de classes em subconjuntos de treinamento e teste na proporção meio a meio e então aplica-se o classificador LDA.\n",
        "\n",
        "Após repetir o processo 10 vezes, printa a maior taxa de acerto."
      ]
    },
    {
      "cell_type": "code",
      "metadata": {
        "id": "EuwpDpZdM03k",
        "colab_type": "code",
        "colab": {}
      },
      "source": [
        "for j in range(10):\n",
        "    FEATURE_MATRIX_train, FEATURE_MATRIX_test, LABELS_train, LABELS_test = train_test_split(FEATURE_MATRIX, LABELS, test_size=0.5)\n",
        "\n",
        "    scaler = MinMaxScaler()\n",
        "    scaler.fit(FEATURE_MATRIX_train)\n",
        "    FEATURE_MATRIX_train = scaler.transform(FEATURE_MATRIX_train)\n",
        "    FEATURE_MATRIX_test = scaler.transform(FEATURE_MATRIX_test)\n",
        "\n",
        "    pca = PCA(n_components= 47)\n",
        "    FEATURE_MATRIX_train = pca.fit_transform(FEATURE_MATRIX_train)\n",
        "    FEATURE_MATRIX_test = pca.transform(FEATURE_MATRIX_test)\n",
        "\n",
        "    clf = LDA().fit(FEATURE_MATRIX_train, LABELS_train)\n",
        "    predicted_LABELS_test = clf.predict(FEATURE_MATRIX_test)\n",
        "\n",
        "    ACCURACY.append(accuracy_score(LABELS_test, predicted_LABELS_test)*100)\n",
        "\n",
        "print('Maior acurácia: %0.1f' % np.amax(ACCURACY))"
      ],
      "execution_count": null,
      "outputs": []
    }
  ]
}